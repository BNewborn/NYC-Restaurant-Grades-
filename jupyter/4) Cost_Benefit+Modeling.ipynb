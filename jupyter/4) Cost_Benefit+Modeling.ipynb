{
 "cells": [
  {
   "cell_type": "code",
   "execution_count": 3,
   "metadata": {},
   "outputs": [],
   "source": [
    "from IPython.display import Image\n",
    "import pandas as pd\n",
    "import seaborn as sns\n",
    "import numpy as np\n",
    "from matplotlib import pyplot as plt\n",
    "from sklearn import metrics\n",
    "%matplotlib inline\n",
    "\n",
    "master_df = pd.read_pickle(\"master_5818\")"
   ]
  },
  {
   "cell_type": "code",
   "execution_count": 4,
   "metadata": {},
   "outputs": [],
   "source": [
    "from sklearn import pipeline,linear_model,tree\\\n",
    ",naive_bayes,model_selection,preprocessing,svm,metrics\n",
    "from imblearn import over_sampling\n"
   ]
  },
  {
   "cell_type": "code",
   "execution_count": 5,
   "metadata": {},
   "outputs": [],
   "source": [
    "#Taken from Class Lecture\n",
    "def plot_confusion_matrix(cm,title='Confusion matrix', cmap=plt.cm.Reds):\n",
    "    plt.imshow(cm, interpolation='nearest',cmap=cmap)\n",
    "    plt.title(title)\n",
    "    plt.colorbar()\n",
    "    plt.tight_layout()\n",
    "    plt.ylabel('True label')\n",
    "    plt.xlabel('Predicted label')\n",
    "\n",
    "#Could be a typical function for classifying:\n",
    "\n",
    "def train_score(classifier,xtrain, xtest, ytrain, ytest):\n",
    "#     xtrain, xtest, ytrain, ytest = model_selection.train_test_split(x, y, test_size=0.2, random_state=1234)\n",
    "    ytrain=np.ravel(ytrain)\n",
    "    clf = classifier.fit(xtrain, ytrain)\n",
    "    # accuracy for test & train:\n",
    "    train_acc=clf.score(xtrain, ytrain)\n",
    "    test_acc=clf.score(xtest,ytest)\n",
    "    print(\"Training Data Accuracy: %0.2f\" %(train_acc))\n",
    "    print(\"Test Data Accuracy:     %0.2f\" %(test_acc))\n",
    "    \n",
    "    y_true = ytest\n",
    "    y_pred = clf.predict(xtest)\n",
    "\n",
    "\n",
    "    conf = metrics.confusion_matrix(y_true, y_pred)\n",
    "    print(conf)\n",
    "\n",
    "    print ('\\n')\n",
    "    print (\"Precision:              %0.2f\" %(conf[1, 1] / (conf[1, 1] + conf[0, 1])))\n",
    "    print (\"Recall:                 %0.2f\"% (conf[1, 1] / (conf[1, 1] + conf[1, 0])))\n",
    "    \n",
    "    cm=metrics.confusion_matrix(y_true, y_pred, labels=None)\n",
    "    \n",
    "    plt.figure()\n",
    "    plot_confusion_matrix(cm)"
   ]
  },
  {
   "cell_type": "markdown",
   "metadata": {},
   "source": [
    "**Baseline 87.2%**  \n",
    "Since 87% of my restaurant inspections resulted in an \"A\", my first baseline will be a model that predicts all \"A\"s for all restaurants, all the time. This is obviously a \"useless\" model in that it doesnt tell us anything new, but it does give us a baseline that we should have to beat with any fancier models. Predicting just A's gets us to 87.2% accuracy, so any model has to beat that to be considered useful."
   ]
  },
  {
   "cell_type": "markdown",
   "metadata": {},
   "source": [
    "#### Clean Data"
   ]
  },
  {
   "cell_type": "code",
   "execution_count": 6,
   "metadata": {},
   "outputs": [],
   "source": [
    "#split master_df into X and Y\n",
    "master_y = master_df['grade']\n",
    "master_x = master_df.drop(['grade','dba_master'],axis=1)\n",
    "master_x['grade_date']=pd.to_datetime(master_x['grade_date'])\n",
    "master_x_cats = master_x.copy()\n",
    "# master_x['grade_date']=master_x['grade_date'].astype(int)\n",
    "master_x =master_x.drop('grade_date',axis=1)"
   ]
  },
  {
   "cell_type": "code",
   "execution_count": 7,
   "metadata": {},
   "outputs": [],
   "source": [
    "#Dummies for categoricals - date, cuisine, inspection type, boro\n",
    "\n",
    "master_x_cats['year']=master_x_cats['grade_date'].dt.year\n",
    "master_x_cats['month']=master_x_cats['grade_date'].dt.month\n",
    "# master_x_cats['grade_date']=master_x_cats['grade_date'].astype(int)\n",
    "\n",
    "for i in (['cuisine_description','inspection_type','boro']):\n",
    "    master_x_cats = pd.concat([master_x_cats, pd.get_dummies\\\n",
    "                           (master_x_cats[i])], axis=1)\n",
    "    master_x_cats = master_x_cats.drop(i,axis=1)\n",
    "\n",
    "for i in (['month']):\n",
    "    master_x_cats = pd.concat([master_x_cats, pd.get_dummies\\\n",
    "                           (master_x_cats[i],prefix=[i])], axis=1)\n",
    "    master_x_cats = master_x_cats.drop(i,axis=1)\n",
    "    \n",
    "master_x_cats =master_x_cats.drop(['year','grade_date'],axis=1)\n",
    "#create backup of master_y as \"cats\" version\n",
    "master_y_cats = pd.DataFrame(master_y.copy())"
   ]
  },
  {
   "cell_type": "markdown",
   "metadata": {},
   "source": [
    "This logistic regression pipeline will give us the best estimator for C value i.e. how much we should penalize overly complicated equations of fit.   \n",
    "\n",
    "Note here that I am using x_cats and y_cats - these are larger dataframes than our original dataset, but are necessary to break out the many categorical columns we have. These still contain the same data as the original master_df, but have many more columns to allow logistic regression to run correctly. Most of these columns are \"dummies\"."
   ]
  },
  {
   "cell_type": "code",
   "execution_count": null,
   "metadata": {},
   "outputs": [],
   "source": []
  },
  {
   "cell_type": "code",
   "execution_count": 8,
   "metadata": {
    "scrolled": true
   },
   "outputs": [
    {
     "name": "stderr",
     "output_type": "stream",
     "text": [
      "/anaconda3/lib/python3.6/site-packages/sklearn/utils/validation.py:578: DataConversionWarning: A column-vector y was passed when a 1d array was expected. Please change the shape of y to (n_samples, ), for example using ravel().\n",
      "  y = column_or_1d(y, warn=True)\n"
     ]
    }
   ],
   "source": [
    "x_train,x_test,y_train,y_test = \\\n",
    "model_selection.train_test_split(master_x_cats,master_y_cats)\n",
    "sm = over_sampling.SMOTE(ratio='minority')\n",
    "x_train_smote,y_train_smote = sm.fit_sample(x_train,y_train)\n"
   ]
  },
  {
   "cell_type": "code",
   "execution_count": 9,
   "metadata": {},
   "outputs": [],
   "source": [
    "x_train,x_test,y_train,y_test = \\\n",
    "model_selection.train_test_split(master_x_cats,master_y_cats,test_size=.1)\n"
   ]
  },
  {
   "cell_type": "code",
   "execution_count": 10,
   "metadata": {},
   "outputs": [
    {
     "name": "stderr",
     "output_type": "stream",
     "text": [
      "/anaconda3/lib/python3.6/site-packages/sklearn/utils/validation.py:578: DataConversionWarning: A column-vector y was passed when a 1d array was expected. Please change the shape of y to (n_samples, ), for example using ravel().\n",
      "  y = column_or_1d(y, warn=True)\n"
     ]
    },
    {
     "data": {
      "text/plain": [
       "LogisticRegression(C=0.3, class_weight=None, dual=False, fit_intercept=True,\n",
       "          intercept_scaling=1, max_iter=100, multi_class='ovr', n_jobs=1,\n",
       "          penalty='l2', random_state=None, solver='liblinear', tol=0.0001,\n",
       "          verbose=0, warm_start=False)"
      ]
     },
     "execution_count": 10,
     "metadata": {},
     "output_type": "execute_result"
    }
   ],
   "source": [
    "lr_coefs = linear_model.LogisticRegression(C=.3,class_weight=None)\n",
    "lr_coefs.fit(x_train,y_train)"
   ]
  },
  {
   "cell_type": "code",
   "execution_count": 11,
   "metadata": {},
   "outputs": [
    {
     "name": "stdout",
     "output_type": "stream",
     "text": [
      "Training Data Accuracy: 0.79\n",
      "Test Data Accuracy:     0.65\n",
      "[[10412  6788]\n",
      " [  110  2437]]\n",
      "\n",
      "\n",
      "Precision:              0.26\n",
      "Recall:                 0.96\n"
     ]
    },
    {
     "data": {
      "image/png": "[encoded data removed]",
      "text/plain": [
       "<matplotlib.figure.Figure at 0x1a11ffdcc0>"
      ]
     },
     "metadata": {},
     "output_type": "display_data"
    }
   ],
   "source": [
    "x_train,x_test,y_train,y_test = \\\n",
    "model_selection.train_test_split(master_x_cats,master_y_cats)\n",
    "\n",
    "train_score(lr_coefs,x_train_smote,x_test,y_train_smote,y_test)\n",
    "\n",
    "# TN  # FP\n",
    "# FN  # TP\n",
    "\n",
    "# True A             # False Predicted Non A\n",
    "# False Predicted A  # True Predicted Non A\n",
    "\n",
    "# def train_score(classifier,xtrain, xtest, ytrain, ytest):"
   ]
  },
  {
   "cell_type": "code",
   "execution_count": 12,
   "metadata": {},
   "outputs": [
    {
     "name": "stdout",
     "output_type": "stream",
     "text": [
      "[[17199     1]\n",
      " [ 2200   347]]\n"
     ]
    },
    {
     "data": {
      "image/png": "[encoded data removed]",
      "text/plain": [
       "<matplotlib.figure.Figure at 0x10f2c4358>"
      ]
     },
     "metadata": {},
     "output_type": "display_data"
    }
   ],
   "source": [
    "from sklearn import ensemble\n",
    "#Cost Benefit RF\n",
    "#Cost of Intervention is $100\n",
    "#Cost of 2nd Inspection is $200\n",
    "# -------------------------------------\n",
    "#False Negatives cost $250 (missing a non-A, guessing A) - cost of inspection2/appeal\n",
    "#True Positives save us $150 (guessing non-A, being right) - cost of inspection2 minus cost intervention\n",
    "#False Positives cost us $100 (guessing non-A, being A) - cost of intervention\n",
    "# -------------------------------------\n",
    "\n",
    "y_proba = lr_coefs.predict_proba(x_test)\n",
    "prec_log = {}\n",
    "rec_log = {}\n",
    "acc_log = {}\n",
    "cost_ben_log = {}\n",
    "\n",
    "for i in np.arange(0,1,.01):\n",
    "    i = np.round(i,2)\n",
    "    y_pred_high_precision = y_proba[:,1] >= i \n",
    "    y_pred_high_precision\n",
    "    conf = metrics.confusion_matrix(y_test,y_pred_high_precision)\n",
    "    \n",
    "    ac_log = round(metrics.accuracy_score(y_test,y_pred_high_precision),4)\n",
    "    pc_log = (conf[1, 1] / (conf[1, 1] + conf[0, 1]))\n",
    "    rc_log = (conf[1, 1] / (conf[1, 1] + conf[1, 0]))\n",
    "    \n",
    "    acc_log[i]= ac_log\n",
    "    prec_log[i]= pc_log\n",
    "    rec_log[i] = rc_log\n",
    "#     cost_ben_log[i] = ((250 * (1-rc_log)) + (100*(1-pc_log)) - (150*pc_log))\n",
    "    #\n",
    "    cost_ben_log[i] = ((250 * conf[1, 0]) + (100*conf[0, 1]) - ((150*conf[1, 1])))/len(y_test)\n",
    "#     Expected_Value = #TPs(2160) - #FNs(2900) -#FPs(750)\n",
    "\n",
    "print(conf)\n",
    "plt.plot(acc_log.keys(),acc_log.values(),label=\"Accuracy\")\n",
    "plt.plot(rec_log.keys(),rec_log.values(),label=\"Recall\")\n",
    "plt.plot(prec_log.keys(),prec_log.values(),label=\"Precision\")\n",
    "# plt.plot(cost_ben.keys(),cost_ben.values(),label=\"Cost Benefit\")\n",
    "plt.legend()\n",
    "plt.grid()\n",
    "plt.xlabel(\"Threshold\")\n",
    "plt.title('Precision / Recall');\n",
    "\n",
    "# metrics.\n",
    "# TN  # FP\n",
    "# FN  # TP"
   ]
  },
  {
   "cell_type": "code",
   "execution_count": 13,
   "metadata": {},
   "outputs": [
    {
     "name": "stdout",
     "output_type": "stream",
     "text": [
      "0.55 16.977262368967438\n",
      "0.56 16.815212437332253\n",
      "0.57 16.273357978427104\n",
      "0.58 15.96951435661113\n",
      "0.59 15.75682382133995\n",
      "0.6 15.660606674431559\n",
      "0.61 15.33144275079759\n",
      "0.62 15.169392819162404\n",
      "0.63 15.478300501341977\n",
      "0.64 15.685926976249556\n",
      "0.65 16.09611586570112\n",
      "0.66 16.430343849698687\n",
      "0.67 16.65316250569707\n",
      "0.68 16.815212437332253\n",
      "0.69 17.220337266420216\n"
     ]
    }
   ],
   "source": [
    "for i in np.arange(.55,.7,.01):\n",
    "    i = np.round(i,4)\n",
    "    print(i,cost_ben_log[i])"
   ]
  },
  {
   "cell_type": "code",
   "execution_count": 14,
   "metadata": {},
   "outputs": [
    {
     "name": "stdout",
     "output_type": "stream",
     "text": [
      "15.169392819162404\n"
     ]
    },
    {
     "data": {
      "image/png": "[encoded data removed]",
      "text/plain": [
       "<matplotlib.figure.Figure at 0x10f050ba8>"
      ]
     },
     "metadata": {},
     "output_type": "display_data"
    }
   ],
   "source": [
    "print(min(cost_ben_log.values()))\n",
    "\n",
    "plt.plot(cost_ben_log.keys(),cost_ben_log.values(),label=\"Cost\")\n",
    "plt.legend();\n",
    "plt.xlabel(\"Threshold\")\n",
    "plt.ylabel(\"Cost ($)\")\n",
    "plt.grid()\n",
    "plt.title('Cost per Intervention - Logistic Regression')\n",
    "plt.savefig(\"Cost_PerIntervention_Logistic\");"
   ]
  },
  {
   "cell_type": "code",
   "execution_count": 15,
   "metadata": {
    "scrolled": true
   },
   "outputs": [
    {
     "name": "stdout",
     "output_type": "stream",
     "text": [
      "Threshold at 0.01 \n",
      "\n",
      "[[8834 8366]\n",
      " [   1 2546]]\n",
      "\n",
      "Threshold: 0.01\n",
      "Accuracy: 0.5763\n",
      "Precision: 0.23332111436950145\n",
      "Recall: 0.9996073812328229\n",
      "Cost-Benefit: 23.038942624196082\n",
      "********************************\n",
      "Threshold at 0.06 \n",
      "\n",
      "[[9689 7511]\n",
      " [   1 2546]]\n",
      "\n",
      "Threshold: 0.06\n",
      "Accuracy: 0.6196\n",
      "Precision: 0.2531570050710948\n",
      "Recall: 0.9996073812328229\n",
      "Cost-Benefit: 18.70917101331848\n",
      "********************************\n",
      "Threshold at 0.11 \n",
      "\n",
      "[[9716 7484]\n",
      " [   1 2546]]\n",
      "\n",
      "Threshold: 0.11\n",
      "Accuracy: 0.621\n",
      "Precision: 0.25383848454636093\n",
      "Recall: 0.9996073812328229\n",
      "Cost-Benefit: 18.572441383501292\n",
      "********************************\n",
      "Threshold at 0.16 \n",
      "\n",
      "[[9716 7484]\n",
      " [   1 2546]]\n",
      "\n",
      "Threshold: 0.16\n",
      "Accuracy: 0.621\n",
      "Precision: 0.25383848454636093\n",
      "Recall: 0.9996073812328229\n",
      "Cost-Benefit: 18.572441383501292\n",
      "********************************\n",
      "Threshold at 0.21 \n",
      "\n",
      "[[9716 7484]\n",
      " [   1 2546]]\n",
      "\n",
      "Threshold: 0.21\n",
      "Accuracy: 0.621\n",
      "Precision: 0.25383848454636093\n",
      "Recall: 0.9996073812328229\n",
      "Cost-Benefit: 18.572441383501292\n",
      "********************************\n",
      "Threshold at 0.26 \n",
      "\n",
      "[[9717 7483]\n",
      " [   1 2546]]\n",
      "\n",
      "Threshold: 0.26\n",
      "Accuracy: 0.621\n",
      "Precision: 0.2538637949945159\n",
      "Recall: 0.9996073812328229\n",
      "Cost-Benefit: 18.56737732313769\n",
      "********************************\n",
      "Threshold at 0.31 \n",
      "\n",
      "[[9719 7481]\n",
      " [   3 2544]]\n",
      "\n",
      "Threshold: 0.31\n",
      "Accuracy: 0.621\n",
      "Precision: 0.2537655860349127\n",
      "Recall: 0.9988221436984688\n",
      "Cost-Benefit: 18.597761685319288\n",
      "********************************\n",
      "Threshold at 0.36 \n",
      "\n",
      "[[9735 7465]\n",
      " [   7 2540]]\n",
      "\n",
      "Threshold: 0.36\n",
      "Accuracy: 0.6216\n",
      "Precision: 0.2538730634682659\n",
      "Recall: 0.9972516686297606\n",
      "Cost-Benefit: 18.597761685319288\n",
      "********************************\n",
      "Threshold at 0.41 \n",
      "\n",
      "[[9839 7361]\n",
      " [  23 2524]]\n",
      "\n",
      "Threshold: 0.41\n",
      "Accuracy: 0.6261\n",
      "Precision: 0.255336368234699\n",
      "Recall: 0.9909697683549273\n",
      "Cost-Benefit: 18.395199270775308\n",
      "********************************\n",
      "Threshold at 0.46 \n",
      "\n",
      "[[10108  7092]\n",
      " [   60  2487]]\n",
      "\n",
      "Threshold: 0.46\n",
      "Accuracy: 0.6378\n",
      "Precision: 0.25963044159098025\n",
      "Recall: 0.9764428739693758\n",
      "Cost-Benefit: 17.782447966779763\n",
      "********************************\n",
      "Threshold at 0.51 \n",
      "\n",
      "[[10495  6705]\n",
      " [  119  2428]]\n",
      "\n",
      "Threshold: 0.51\n",
      "Accuracy: 0.6544\n",
      "Precision: 0.2658491185809701\n",
      "Recall: 0.9532783667059286\n",
      "Cost-Benefit: 17.017774851876233\n",
      "********************************\n",
      "Threshold at 0.56 \n",
      "\n",
      "[[11143  6057]\n",
      " [  271  2276]]\n",
      "\n",
      "Threshold: 0.56\n",
      "Accuracy: 0.6795\n",
      "Precision: 0.2731309252370095\n",
      "Recall: 0.8936003140950137\n",
      "Cost-Benefit: 16.815212437332253\n",
      "********************************\n",
      "Threshold at 0.61 \n",
      "\n",
      "[[12560  4640]\n",
      " [  552  1995]]\n",
      "\n",
      "Threshold: 0.61\n",
      "Accuracy: 0.7371\n",
      "Precision: 0.3006782215523738\n",
      "Recall: 0.7832744405182568\n",
      "Cost-Benefit: 15.33144275079759\n",
      "********************************\n",
      "Threshold at 0.66 \n",
      "\n",
      "[[14211  2989]\n",
      " [ 1019  1528]]\n",
      "\n",
      "Threshold: 0.66\n",
      "Accuracy: 0.797\n",
      "Precision: 0.3382776178879787\n",
      "Recall: 0.5999214762465646\n",
      "Cost-Benefit: 16.430343849698687\n",
      "********************************\n",
      "Threshold at 0.71 \n",
      "\n",
      "[[15666  1534]\n",
      " [ 1471  1076]]\n",
      "\n",
      "Threshold: 0.71\n",
      "Accuracy: 0.8478\n",
      "Precision: 0.41226053639846744\n",
      "Recall: 0.4224577934825285\n",
      "Cost-Benefit: 18.217957158049323\n",
      "********************************\n",
      "Threshold at 0.76 \n",
      "\n",
      "[[16711   489]\n",
      " [ 1892   655]]\n",
      "\n",
      "Threshold: 0.76\n",
      "Accuracy: 0.8794\n",
      "Precision: 0.5725524475524476\n",
      "Recall: 0.2571652925009815\n",
      "Cost-Benefit: 21.453891730389426\n",
      "********************************\n",
      "Threshold at 0.81 \n",
      "\n",
      "[[17147    53]\n",
      " [ 2082   465]]\n",
      "\n",
      "Threshold: 0.81\n",
      "Accuracy: 0.8919\n",
      "Precision: 0.8976833976833977\n",
      "Recall: 0.18256772673733804\n",
      "Cost-Benefit: 23.094647288195674\n",
      "********************************\n",
      "Threshold at 0.86 \n",
      "\n",
      "[[17199     1]\n",
      " [ 2100   447]]\n",
      "\n",
      "Threshold: 0.86\n",
      "Accuracy: 0.8936\n",
      "Precision: 0.9977678571428571\n",
      "Recall: 0.17550058892815076\n",
      "Cost-Benefit: 23.195928495467665\n",
      "********************************\n",
      "Threshold at 0.91 \n",
      "\n",
      "[[17199     1]\n",
      " [ 2102   445]]\n",
      "\n",
      "Threshold: 0.91\n",
      "Accuracy: 0.8935\n",
      "Precision: 0.9977578475336323\n",
      "Recall: 0.17471535139379663\n",
      "Cost-Benefit: 23.23644097837646\n",
      "********************************\n",
      "Threshold at 0.96 \n",
      "\n",
      "[[17199     1]\n",
      " [ 2148   399]]\n",
      "\n",
      "Threshold: 0.96\n",
      "Accuracy: 0.8912\n",
      "Precision: 0.9975\n",
      "Recall: 0.15665488810365136\n",
      "Cost-Benefit: 24.168228085278777\n",
      "********************************\n"
     ]
    }
   ],
   "source": [
    "for i in np.arange(0.01,1.01,0.05):\n",
    "    y_pred_high_precision = y_proba[:,1] >= i \n",
    "    y_pred_high_precision\n",
    "    conf = metrics.confusion_matrix(y_test,y_pred_high_precision)\n",
    "    print(f\"Threshold at {round(i,2)} \\n\")\n",
    "    print(conf)\n",
    "    print(\"\")\n",
    "    test_thresh = np.round(i,2)\n",
    "    print(f\"Threshold: {test_thresh}\")\n",
    "    print(f\"Accuracy: {acc_log[test_thresh]}\")\n",
    "    print(f\"Precision: {prec_log[test_thresh]}\")\n",
    "    print(f\"Recall: {rec_log[test_thresh]}\")\n",
    "    print(f\"Cost-Benefit: {cost_ben_log[test_thresh]}\" )\n",
    "    print(\"********************************\")\n",
    "    \n",
    "#         cost_ben_log[i] = ((250 * (1-rc_log)) + (100*(1-pc_log)) - (150*pc_log))*100\n",
    "\n"
   ]
  },
  {
   "cell_type": "markdown",
   "metadata": {},
   "source": [
    "##### Random Forest"
   ]
  },
  {
   "cell_type": "code",
   "execution_count": 16,
   "metadata": {},
   "outputs": [],
   "source": [
    "from sklearn import ensemble\n",
    "from imblearn import over_sampling"
   ]
  },
  {
   "cell_type": "code",
   "execution_count": 17,
   "metadata": {},
   "outputs": [],
   "source": [
    "kfold = model_selection.StratifiedKFold(n_splits = 5)"
   ]
  },
  {
   "cell_type": "code",
   "execution_count": 18,
   "metadata": {},
   "outputs": [
    {
     "name": "stderr",
     "output_type": "stream",
     "text": [
      "/anaconda3/lib/python3.6/site-packages/sklearn/utils/validation.py:578: DataConversionWarning: A column-vector y was passed when a 1d array was expected. Please change the shape of y to (n_samples, ), for example using ravel().\n",
      "  y = column_or_1d(y, warn=True)\n",
      "/anaconda3/lib/python3.6/site-packages/sklearn/utils/deprecation.py:77: DeprecationWarning: Function _ratio_float is deprecated; Use a float for 'ratio' is deprecated from version 0.2. The support will be removed in 0.4. Use a dict, str, or a callable instead.\n",
      "  warnings.warn(msg, category=DeprecationWarning)\n"
     ]
    }
   ],
   "source": [
    "#Now trying with oversampling\n",
    "\n",
    "x_train,x_test,y_train,y_test = \\\n",
    "model_selection.train_test_split(master_x_cats,master_y_cats)\n",
    "sm = over_sampling.SMOTE(ratio=1)\n",
    "x_train_smote,y_train_smote = sm.fit_sample(x_train,y_train)"
   ]
  },
  {
   "cell_type": "code",
   "execution_count": 19,
   "metadata": {},
   "outputs": [
    {
     "name": "stderr",
     "output_type": "stream",
     "text": [
      "/anaconda3/lib/python3.6/site-packages/sklearn/utils/validation.py:578: DataConversionWarning: A column-vector y was passed when a 1d array was expected. Please change the shape of y to (n_samples, ), for example using ravel().\n",
      "  y = column_or_1d(y, warn=True)\n",
      "/anaconda3/lib/python3.6/site-packages/sklearn/utils/deprecation.py:77: DeprecationWarning: Function _ratio_float is deprecated; Use a float for 'ratio' is deprecated from version 0.2. The support will be removed in 0.4. Use a dict, str, or a callable instead.\n",
      "  warnings.warn(msg, category=DeprecationWarning)\n"
     ]
    },
    {
     "data": {
      "text/plain": [
       "RandomForestClassifier(bootstrap=True, class_weight=None, criterion='gini',\n",
       "            max_depth=None, max_features='auto', max_leaf_nodes=None,\n",
       "            min_impurity_decrease=0.0, min_impurity_split=None,\n",
       "            min_samples_leaf=1, min_samples_split=2,\n",
       "            min_weight_fraction_leaf=0.0, n_estimators=10, n_jobs=1,\n",
       "            oob_score=False, random_state=None, verbose=0,\n",
       "            warm_start=False)"
      ]
     },
     "execution_count": 19,
     "metadata": {},
     "output_type": "execute_result"
    }
   ],
   "source": [
    "rf_best = ensemble.RandomForestClassifier\\\n",
    "(class_weight=None,max_features='auto')\n",
    "\n",
    "x_train,x_test,y_train,y_test = \\\n",
    "model_selection.train_test_split(master_x_cats,master_y_cats)\n",
    "sm = over_sampling.SMOTE(ratio=1)\n",
    "x_train_smote,y_train_smote = sm.fit_sample(x_train,y_train)\n",
    "\n",
    "rf_best.fit(x_train_smote,y_train_smote)"
   ]
  },
  {
   "cell_type": "code",
   "execution_count": 20,
   "metadata": {
    "scrolled": true
   },
   "outputs": [
    {
     "name": "stdout",
     "output_type": "stream",
     "text": [
      "[[17134   120]\n",
      " [ 2179   314]]\n"
     ]
    },
    {
     "data": {
      "image/png": "[encoded data removed]",
      "text/plain": [
       "<matplotlib.figure.Figure at 0x10fa64358>"
      ]
     },
     "metadata": {},
     "output_type": "display_data"
    }
   ],
   "source": [
    "#Cost Benefit RF\n",
    "#Cost of Intervention is $100\n",
    "#Cost of 2nd Inspection is $200\n",
    "# -------------------------------------\n",
    "#False Negatives cost $500 (missing a non-A, guessing A) - cost of inspection2/appeal\n",
    "#True Positives save us $400 (guessing non-A, being right) - action saves us cost of inspection2 - cost intervention\n",
    "#False Positives cost us $100 (guessing non-A, being A) - wasted intervention\n",
    "#     cost_ben_log[i] = (500 * (1-rc_log)) + (100*(1-pc_log)) - (400*pc_log)\n",
    "# -------------------------------------\n",
    "\n",
    "y_proba = rf_best.predict_proba(x_test)\n",
    "prec = {}\n",
    "rec = {}\n",
    "acc = {}\n",
    "cost_ben = {}\n",
    "\n",
    "for i in np.arange(0,1,.01):\n",
    "    y_pred_high_precision = y_proba[:,1] >= i \n",
    "    y_pred_high_precision\n",
    "    conf = metrics.confusion_matrix(y_test,y_pred_high_precision)\n",
    "    \n",
    "    ac = round(metrics.accuracy_score(y_test,y_pred_high_precision),4)\n",
    "    pc = (conf[1, 1] / (conf[1, 1] + conf[0, 1]))\n",
    "    rc = (conf[1, 1] / (conf[1, 1] + conf[1, 0]))\n",
    "    \n",
    "    acc[i]= ac\n",
    "    prec[i]= pc\n",
    "    rec[i] = rc\n",
    "#     cost_ben[i] = (500 * (1-rc)) + (100*(1-pc)) - (400*pc)\n",
    "#     cost_ben[i]  = ((250 * (1-rc)) + (100*(1-pc)) - (150*pc))\n",
    "    cost_ben[i] = ((250 * conf[1, 0]) + (100*conf[0, 1]) - ((150*conf[1, 1])))/len(y_test)\n",
    "    \n",
    "\n",
    "print(conf)\n",
    "plt.plot(acc.keys(),acc.values(),label=\"Accuracy\")\n",
    "plt.plot(rec.keys(),rec.values(),label=\"Recall\")\n",
    "plt.plot(prec.keys(),prec.values(),label=\"Precision\")\n",
    "# plt.plot(cost_ben.keys(),cost_ben.values(),label=\"Cost Benefit\")\n",
    "plt.legend();\n",
    "plt.xlabel(\"Threshold\")\n",
    "plt.title('Precision / Recall');\n",
    "\n",
    "# metrics.\n",
    "# TN  # FP\n",
    "# FN  # TP"
   ]
  },
  {
   "cell_type": "code",
   "execution_count": 21,
   "metadata": {},
   "outputs": [
    {
     "name": "stdout",
     "output_type": "stream",
     "text": [
      "17.671038638780573\n"
     ]
    },
    {
     "data": {
      "image/png": "[encoded data removed]",
      "text/plain": [
       "<matplotlib.figure.Figure at 0x10f7e1978>"
      ]
     },
     "metadata": {},
     "output_type": "display_data"
    }
   ],
   "source": [
    "print(min(cost_ben.values()))\n",
    "\n",
    "\n",
    "plt.plot(cost_ben.keys(),cost_ben.values(),label=\"Cost\")\n",
    "plt.legend();\n",
    "plt.xlabel(\"Threshold\")\n",
    "plt.ylabel(\"Cost ($)\")\n",
    "plt.grid()\n",
    "plt.savefig(\"Cost_perint_RF\")\n",
    "plt.title('Cost - PER INTERVENTION - Random Forest');"
   ]
  },
  {
   "cell_type": "code",
   "execution_count": 22,
   "metadata": {},
   "outputs": [
    {
     "name": "stdout",
     "output_type": "stream",
     "text": [
      "[[11417  5837]\n",
      " [  402  2091]]\n",
      "\n",
      "Threshold: 0.01\n",
      "Accuracy: 0.6841\n",
      "Precision: 0.2637487386478305\n",
      "Recall: 0.838748495788207\n",
      "Cost-Benefit: 18.764875677318074\n",
      "********************************\n",
      "[[11460  5794]\n",
      " [  413  2080]]\n",
      "\n",
      "Threshold: 0.06\n",
      "Accuracy: 0.6857\n",
      "Precision: 0.26425396825396824\n",
      "Recall: 0.8347372643401524\n",
      "Cost-Benefit: 18.749683496227274\n",
      "********************************\n",
      "[[13265  3989]\n",
      " [  812  1681]]\n",
      "\n",
      "Threshold: 0.11\n",
      "Accuracy: 0.7569\n",
      "Precision: 0.2964726631393298\n",
      "Recall: 0.6742880064179703\n",
      "Cost-Benefit: 17.71155112168937\n",
      "********************************\n",
      "[[13308  3946]\n",
      " [  824  1669]]\n",
      "\n",
      "Threshold: 0.16\n",
      "Accuracy: 0.7585\n",
      "Precision: 0.29736467236467234\n",
      "Recall: 0.6698756518251103\n",
      "Cost-Benefit: 17.71661518205297\n",
      "********************************\n",
      "[[14446  2808]\n",
      " [ 1115  1378]]\n",
      "\n",
      "Threshold: 0.21\n",
      "Accuracy: 0.8013\n",
      "Precision: 0.32919254658385094\n",
      "Recall: 0.5527476935419173\n",
      "Cost-Benefit: 17.868536992960955\n",
      "********************************\n",
      "[[14479  2775]\n",
      " [ 1129  1364]]\n",
      "\n",
      "Threshold: 0.26\n",
      "Accuracy: 0.8023\n",
      "Precision: 0.32954820004832086\n",
      "Recall: 0.547131969514641\n",
      "Cost-Benefit: 17.985010381323747\n",
      "********************************\n",
      "[[15226  2028]\n",
      " [ 1330  1163]]\n",
      "\n",
      "Threshold: 0.31\n",
      "Accuracy: 0.8299\n",
      "Precision: 0.3644625509244751\n",
      "Recall: 0.4665062174087445\n",
      "Cost-Benefit: 18.27366182204892\n",
      "********************************\n",
      "[[15263  1991]\n",
      " [ 1345  1148]]\n",
      "\n",
      "Threshold: 0.36\n",
      "Accuracy: 0.8311\n",
      "Precision: 0.36572156737814593\n",
      "Recall: 0.46048937023666264\n",
      "Cost-Benefit: 18.390135210411707\n",
      "********************************\n",
      "[[15782  1472]\n",
      " [ 1509   984]]\n",
      "\n",
      "Threshold: 0.41\n"
     ]
    },
    {
     "ename": "KeyError",
     "evalue": "0.41",
     "output_type": "error",
     "traceback": [
      "\u001b[0;31m---------------------------------------------------------------------------\u001b[0m",
      "\u001b[0;31mKeyError\u001b[0m                                  Traceback (most recent call last)",
      "\u001b[0;32m<ipython-input-22-d92342e29b58>\u001b[0m in \u001b[0;36m<module>\u001b[0;34m()\u001b[0m\n\u001b[1;32m      7\u001b[0m     \u001b[0mtest_thresh\u001b[0m \u001b[0;34m=\u001b[0m \u001b[0mround\u001b[0m\u001b[0;34m(\u001b[0m\u001b[0mi\u001b[0m\u001b[0;34m,\u001b[0m\u001b[0;36m2\u001b[0m\u001b[0;34m)\u001b[0m\u001b[0;34m\u001b[0m\u001b[0m\n\u001b[1;32m      8\u001b[0m     \u001b[0mprint\u001b[0m\u001b[0;34m(\u001b[0m\u001b[0;34mf\"Threshold: {test_thresh}\"\u001b[0m\u001b[0;34m)\u001b[0m\u001b[0;34m\u001b[0m\u001b[0m\n\u001b[0;32m----> 9\u001b[0;31m     \u001b[0mprint\u001b[0m\u001b[0;34m(\u001b[0m\u001b[0;34mf\"Accuracy: {acc[test_thresh]}\"\u001b[0m\u001b[0;34m)\u001b[0m\u001b[0;34m\u001b[0m\u001b[0m\n\u001b[0m\u001b[1;32m     10\u001b[0m     \u001b[0mprint\u001b[0m\u001b[0;34m(\u001b[0m\u001b[0;34mf\"Precision: {prec[test_thresh]}\"\u001b[0m\u001b[0;34m)\u001b[0m\u001b[0;34m\u001b[0m\u001b[0m\n\u001b[1;32m     11\u001b[0m     \u001b[0mprint\u001b[0m\u001b[0;34m(\u001b[0m\u001b[0;34mf\"Recall: {rec[test_thresh]}\"\u001b[0m\u001b[0;34m)\u001b[0m\u001b[0;34m\u001b[0m\u001b[0m\n",
      "\u001b[0;31mKeyError\u001b[0m: 0.41"
     ]
    }
   ],
   "source": [
    "for i in np.arange(0.01,0.5,0.05):\n",
    "    y_pred_high_precision = y_proba[:,1] >= i \n",
    "    y_pred_high_precision\n",
    "    conf = metrics.confusion_matrix(y_test,y_pred_high_precision)\n",
    "    print(conf)\n",
    "    print(\"\")\n",
    "    test_thresh = round(i,2)\n",
    "    print(f\"Threshold: {test_thresh}\")\n",
    "    print(f\"Accuracy: {acc[test_thresh]}\")\n",
    "    print(f\"Precision: {prec[test_thresh]}\")\n",
    "    print(f\"Recall: {rec[test_thresh]}\")\n",
    "    print(f\"Cost-Benefit: {cost_ben[test_thresh]}\" )\n",
    "    print(\"********************************\")\n",
    "\n"
   ]
  },
  {
   "cell_type": "code",
   "execution_count": 23,
   "metadata": {},
   "outputs": [
    {
     "name": "stdout",
     "output_type": "stream",
     "text": [
      "Threshold: 0.01\n",
      "Accuracy: 0.6799\n",
      "Precision: 0.26289371313841137\n",
      "Recall: 0.8241542092840283\n",
      "Cost-Benefit: 19.491568339494606\n",
      "********************************\n",
      "Threshold: 0.06\n",
      "Accuracy: 0.6808\n",
      "Precision: 0.2623199393479909\n",
      "Recall: 0.8166797797010228\n",
      "Cost-Benefit: 19.69413075403859\n",
      "********************************\n",
      "Threshold: 0.11\n",
      "Accuracy: 0.7494\n",
      "Precision: 0.2908047974969581\n",
      "Recall: 0.6581431943351692\n",
      "Cost-Benefit: 18.954777940953058\n",
      "********************************\n",
      "Threshold: 0.16\n",
      "Accuracy: 0.7505\n",
      "Precision: 0.2910460837567899\n",
      "Recall: 0.6534225019669552\n",
      "Cost-Benefit: 19.02567478604345\n",
      "********************************\n"
     ]
    }
   ],
   "source": [
    "for test_thresh in np.arange(0.01,0.2,0.05):\n",
    "    test_thresh = round(test_thresh,2)\n",
    "    print(f\"Threshold: {test_thresh}\")\n",
    "    print(f\"Accuracy: {acc[test_thresh]}\")\n",
    "    print(f\"Precision: {prec[test_thresh]}\")\n",
    "    print(f\"Recall: {rec[test_thresh]}\")\n",
    "    print(f\"Cost-Benefit: {cost_ben[test_thresh]}\" )\n",
    "    print(\"********************************\")"
   ]
  },
  {
   "cell_type": "code",
   "execution_count": 24,
   "metadata": {},
   "outputs": [
    {
     "data": {
      "image/png": "[encoded data removed]",
      "text/plain": [
       "<Figure size 432x288 with 1 Axes>"
      ]
     },
     "metadata": {},
     "output_type": "display_data"
    }
   ],
   "source": [
    "plt.plot(acc.keys(),acc.values(),label=\"Accuracy\")\n",
    "plt.plot(rec.keys(),rec.values(),label=\"Recall\")\n",
    "plt.plot(prec.keys(),prec.values(),label=\"Precision\")\n",
    "plt.legend();\n",
    "plt.xlabel(\"i\")\n",
    "plt.title('Precision Recall Curve');"
   ]
  },
  {
   "cell_type": "code",
   "execution_count": 25,
   "metadata": {},
   "outputs": [
    {
     "ename": "NameError",
     "evalue": "name 'y_score' is not defined",
     "output_type": "error",
     "traceback": [
      "\u001b[0;31m---------------------------------------------------------------------------\u001b[0m",
      "\u001b[0;31mNameError\u001b[0m                                 Traceback (most recent call last)",
      "\u001b[0;32m<ipython-input-25-8169867c11eb>\u001b[0m in \u001b[0;36m<module>\u001b[0;34m()\u001b[0m\n\u001b[1;32m      1\u001b[0m \u001b[0;32mfrom\u001b[0m \u001b[0msklearn\u001b[0m\u001b[0;34m.\u001b[0m\u001b[0mmetrics\u001b[0m \u001b[0;32mimport\u001b[0m \u001b[0mprecision_recall_curve\u001b[0m\u001b[0;34m\u001b[0m\u001b[0m\n\u001b[1;32m      2\u001b[0m \u001b[0;34m\u001b[0m\u001b[0m\n\u001b[0;32m----> 3\u001b[0;31m \u001b[0mp\u001b[0m\u001b[0;34m,\u001b[0m\u001b[0mr\u001b[0m\u001b[0;34m,\u001b[0m\u001b[0mt\u001b[0m\u001b[0;34m=\u001b[0m\u001b[0mprecision_recall_curve\u001b[0m\u001b[0;34m(\u001b[0m\u001b[0my_test\u001b[0m\u001b[0;34m,\u001b[0m\u001b[0my_score\u001b[0m\u001b[0;34m)\u001b[0m\u001b[0;34m\u001b[0m\u001b[0m\n\u001b[0m\u001b[1;32m      4\u001b[0m \u001b[0;34m\u001b[0m\u001b[0m\n\u001b[1;32m      5\u001b[0m \u001b[0;31m# adding last threshold of '1' to threshold list\u001b[0m\u001b[0;34m\u001b[0m\u001b[0;34m\u001b[0m\u001b[0m\n",
      "\u001b[0;31mNameError\u001b[0m: name 'y_score' is not defined"
     ]
    }
   ],
   "source": [
    "from sklearn.metrics import precision_recall_curve\n",
    "\n",
    "p,r,t=precision_recall_curve(y_test,y_score)\n",
    "\n",
    "# adding last threshold of '1' to threshold list\n",
    "t=np.vstack([t.reshape([-1,1]),1])\n",
    "\n",
    "# plt.plot(p,t)\n",
    "# plt.plot(r,t);\n",
    "plt.plot(t,p,label=\"Precision\")\n",
    "plt.plot(t,r,label=\"Recall\")\n",
    "plt.legend();\n",
    "plt.title('Precision Recall Curve');\n",
    "\n"
   ]
  },
  {
   "cell_type": "code",
   "execution_count": null,
   "metadata": {},
   "outputs": [],
   "source": []
  }
 ],
 "metadata": {
  "kernelspec": {
   "display_name": "Python 3",
   "language": "python",
   "name": "python3"
  },
  "language_info": {
   "codemirror_mode": {
    "name": "ipython",
    "version": 3
   },
   "file_extension": ".py",
   "mimetype": "text/x-python",
   "name": "python",
   "nbconvert_exporter": "python",
   "pygments_lexer": "ipython3",
   "version": "3.6.4"
  }
 },
 "nbformat": 4,
 "nbformat_minor": 2
}
