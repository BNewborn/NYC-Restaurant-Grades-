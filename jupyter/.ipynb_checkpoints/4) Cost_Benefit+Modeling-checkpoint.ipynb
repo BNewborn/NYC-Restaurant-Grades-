{
 "cells": [
  {
   "cell_type": "code",
   "execution_count": 3,
   "metadata": {},
   "outputs": [],
   "source": [
    "from IPython.display import Image\n",
    "import pandas as pd\n",
    "import seaborn as sns\n",
    "import numpy as np\n",
    "from matplotlib import pyplot as plt\n",
    "from sklearn import metrics\n",
    "%matplotlib inline\n",
    "\n",
    "master_df = pd.read_pickle(\"master_5818\")"
   ]
  },
  {
   "cell_type": "code",
   "execution_count": 4,
   "metadata": {},
   "outputs": [],
   "source": [
    "from sklearn import pipeline,linear_model,tree\\\n",
    ",naive_bayes,model_selection,preprocessing,svm,metrics\n",
    "from imblearn import over_sampling\n"
   ]
  },
  {
   "cell_type": "code",
   "execution_count": 5,
   "metadata": {},
   "outputs": [],
   "source": [
    "#Taken from Class Lecture\n",
    "def plot_confusion_matrix(cm,title='Confusion matrix', cmap=plt.cm.Reds):\n",
    "    plt.imshow(cm, interpolation='nearest',cmap=cmap)\n",
    "    plt.title(title)\n",
    "    plt.colorbar()\n",
    "    plt.tight_layout()\n",
    "    plt.ylabel('True label')\n",
    "    plt.xlabel('Predicted label')\n",
    "\n",
    "#Could be a typical function for classifying:\n",
    "\n",
    "def train_score(classifier,xtrain, xtest, ytrain, ytest):\n",
    "#     xtrain, xtest, ytrain, ytest = model_selection.train_test_split(x, y, test_size=0.2, random_state=1234)\n",
    "    ytrain=np.ravel(ytrain)\n",
    "    clf = classifier.fit(xtrain, ytrain)\n",
    "    # accuracy for test & train:\n",
    "    train_acc=clf.score(xtrain, ytrain)\n",
    "    test_acc=clf.score(xtest,ytest)\n",
    "    print(\"Training Data Accuracy: %0.2f\" %(train_acc))\n",
    "    print(\"Test Data Accuracy:     %0.2f\" %(test_acc))\n",
    "    \n",
    "    y_true = ytest\n",
    "    y_pred = clf.predict(xtest)\n",
    "\n",
    "\n",
    "    conf = metrics.confusion_matrix(y_true, y_pred)\n",
    "    print(conf)\n",
    "\n",
    "    print ('\\n')\n",
    "    print (\"Precision:              %0.2f\" %(conf[1, 1] / (conf[1, 1] + conf[0, 1])))\n",
    "    print (\"Recall:                 %0.2f\"% (conf[1, 1] / (conf[1, 1] + conf[1, 0])))\n",
    "    \n",
    "    cm=metrics.confusion_matrix(y_true, y_pred, labels=None)\n",
    "    \n",
    "    plt.figure()\n",
    "    plot_confusion_matrix(cm)"
   ]
  },
  {
   "cell_type": "markdown",
   "metadata": {},
   "source": [
    "**Baseline 87.2%**  \n",
    "Since 87% of my restaurant inspections resulted in an \"A\", my first baseline will be a model that predicts all \"A\"s for all restaurants, all the time. This is obviously a \"useless\" model in that it doesnt tell us anything new, but it does give us a baseline that we should have to beat with any fancier models. Predicting just A's gets us to 87.2% accuracy, so any model has to beat that to be considered useful."
   ]
  },
  {
   "cell_type": "markdown",
   "metadata": {},
   "source": [
    "#### Clean Data"
   ]
  },
  {
   "cell_type": "code",
   "execution_count": 6,
   "metadata": {},
   "outputs": [],
   "source": [
    "#split master_df into X and Y\n",
    "master_y = master_df['grade']\n",
    "master_x = master_df.drop(['grade','dba_master'],axis=1)\n",
    "master_x['grade_date']=pd.to_datetime(master_x['grade_date'])\n",
    "master_x_cats = master_x.copy()\n",
    "# master_x['grade_date']=master_x['grade_date'].astype(int)\n",
    "master_x =master_x.drop('grade_date',axis=1)"
   ]
  },
  {
   "cell_type": "code",
   "execution_count": null,
   "metadata": {},
   "outputs": [],
   "source": [
    "#Dummies for categoricals - date, cuisine, inspection type, boro\n",
    "\n",
    "master_x_cats['year']=master_x_cats['grade_date'].dt.year\n",
    "master_x_cats['month']=master_x_cats['grade_date'].dt.month\n",
    "# master_x_cats['grade_date']=master_x_cats['grade_date'].astype(int)\n",
    "\n",
    "for i in (['cuisine_description','inspection_type','boro']):\n",
    "    master_x_cats = pd.concat([master_x_cats, pd.get_dummies\\\n",
    "                           (master_x_cats[i])], axis=1)\n",
    "    master_x_cats = master_x_cats.drop(i,axis=1)\n",
    "\n",
    "for i in (['month']):\n",
    "    master_x_cats = pd.concat([master_x_cats, pd.get_dummies\\\n",
    "                           (master_x_cats[i],prefix=[i])], axis=1)\n",
    "    master_x_cats = master_x_cats.drop(i,axis=1)\n",
    "    \n",
    "master_x_cats =master_x_cats.drop(['year','grade_date'],axis=1)\n",
    "#create backup of master_y as \"cats\" version\n",
    "master_y_cats = pd.DataFrame(master_y.copy())"
   ]
  },
  {
   "cell_type": "markdown",
   "metadata": {},
   "source": [
    "This logistic regression pipeline will give us the best estimator for C value i.e. how much we should penalize overly complicated equations of fit.   \n",
    "\n",
    "Note here that I am using x_cats and y_cats - these are larger dataframes than our original dataset, but are necessary to break out the many categorical columns we have. These still contain the same data as the original master_df, but have many more columns to allow logistic regression to run correctly. Most of these columns are \"dummies\"."
   ]
  },
  {
   "cell_type": "code",
   "execution_count": null,
   "metadata": {},
   "outputs": [],
   "source": []
  },
  {
   "cell_type": "code",
   "execution_count": null,
   "metadata": {
    "scrolled": true
   },
   "outputs": [],
   "source": [
    "x_train,x_test,y_train,y_test = \\\n",
    "model_selection.train_test_split(master_x_cats,master_y_cats)\n",
    "sm = over_sampling.SMOTE(ratio='minority')\n",
    "x_train_smote,y_train_smote = sm.fit_sample(x_train,y_train)\n"
   ]
  },
  {
   "cell_type": "code",
   "execution_count": null,
   "metadata": {},
   "outputs": [],
   "source": [
    "x_train,x_test,y_train,y_test = \\\n",
    "model_selection.train_test_split(master_x_cats,master_y_cats,test_size=.1)\n"
   ]
  },
  {
   "cell_type": "code",
   "execution_count": null,
   "metadata": {},
   "outputs": [],
   "source": [
    "lr_coefs = linear_model.LogisticRegression(C=.3,class_weight=None)\n",
    "lr_coefs.fit(x_train,y_train)"
   ]
  },
  {
   "cell_type": "code",
   "execution_count": null,
   "metadata": {},
   "outputs": [],
   "source": [
    "x_train,x_test,y_train,y_test = \\\n",
    "model_selection.train_test_split(master_x_cats,master_y_cats)\n",
    "\n",
    "train_score(lr_coefs,x_train_smote,x_test,y_train_smote,y_test)\n",
    "\n",
    "# TN  # FP\n",
    "# FN  # TP\n",
    "\n",
    "# True A             # False Predicted Non A\n",
    "# False Predicted A  # True Predicted Non A\n",
    "\n",
    "# def train_score(classifier,xtrain, xtest, ytrain, ytest):"
   ]
  },
  {
   "cell_type": "code",
   "execution_count": null,
   "metadata": {},
   "outputs": [],
   "source": [
    "from sklearn import ensemble\n",
    "#Cost Benefit RF\n",
    "#Cost of Intervention is $100\n",
    "#Cost of 2nd Inspection is $200\n",
    "# -------------------------------------\n",
    "#False Negatives cost $250 (missing a non-A, guessing A) - cost of inspection2/appeal\n",
    "#True Positives save us $150 (guessing non-A, being right) - cost of inspection2 minus cost intervention\n",
    "#False Positives cost us $100 (guessing non-A, being A) - cost of intervention\n",
    "# -------------------------------------\n",
    "\n",
    "y_proba = lr_coefs.predict_proba(x_test)\n",
    "prec_log = {}\n",
    "rec_log = {}\n",
    "acc_log = {}\n",
    "cost_ben_log = {}\n",
    "\n",
    "for i in np.arange(0,1,.01):\n",
    "    i = np.round(i,2)\n",
    "    y_pred_high_precision = y_proba[:,1] >= i \n",
    "    y_pred_high_precision\n",
    "    conf = metrics.confusion_matrix(y_test,y_pred_high_precision)\n",
    "    \n",
    "    ac_log = round(metrics.accuracy_score(y_test,y_pred_high_precision),4)\n",
    "    pc_log = (conf[1, 1] / (conf[1, 1] + conf[0, 1]))\n",
    "    rc_log = (conf[1, 1] / (conf[1, 1] + conf[1, 0]))\n",
    "    \n",
    "    acc_log[i]= ac_log\n",
    "    prec_log[i]= pc_log\n",
    "    rec_log[i] = rc_log\n",
    "#     cost_ben_log[i] = ((250 * (1-rc_log)) + (100*(1-pc_log)) - (150*pc_log))\n",
    "    #\n",
    "    cost_ben_log[i] = ((250 * conf[1, 0]) + (100*conf[0, 1]) - ((150*conf[1, 1])))/len(y_test)\n",
    "#     Expected_Value = #TPs(2160) - #FNs(2900) -#FPs(750)\n",
    "\n",
    "print(conf)\n",
    "plt.plot(acc_log.keys(),acc_log.values(),label=\"Accuracy\")\n",
    "plt.plot(rec_log.keys(),rec_log.values(),label=\"Recall\")\n",
    "plt.plot(prec_log.keys(),prec_log.values(),label=\"Precision\")\n",
    "# plt.plot(cost_ben.keys(),cost_ben.values(),label=\"Cost Benefit\")\n",
    "plt.legend()\n",
    "plt.grid()\n",
    "plt.xlabel(\"Threshold\")\n",
    "plt.title('Precision / Recall');\n",
    "\n",
    "# metrics.\n",
    "# TN  # FP\n",
    "# FN  # TP"
   ]
  },
  {
   "cell_type": "code",
   "execution_count": null,
   "metadata": {},
   "outputs": [],
   "source": [
    "for i in np.arange(.55,.7,.01):\n",
    "    i = np.round(i,4)\n",
    "    print(i,cost_ben_log[i])"
   ]
  },
  {
   "cell_type": "code",
   "execution_count": null,
   "metadata": {},
   "outputs": [],
   "source": [
    "print(min(cost_ben_log.values()))\n",
    "\n",
    "plt.plot(cost_ben_log.keys(),cost_ben_log.values(),label=\"Cost\")\n",
    "plt.legend();\n",
    "plt.xlabel(\"Threshold\")\n",
    "plt.ylabel(\"Cost ($)\")\n",
    "plt.grid()\n",
    "plt.title('Cost per Intervention - Logistic Regression')\n",
    "plt.savefig(\"Cost_PerIntervention_Logistic\");"
   ]
  },
  {
   "cell_type": "code",
   "execution_count": null,
   "metadata": {
    "scrolled": true
   },
   "outputs": [],
   "source": [
    "for i in np.arange(0.01,1.01,0.05):\n",
    "    y_pred_high_precision = y_proba[:,1] >= i \n",
    "    y_pred_high_precision\n",
    "    conf = metrics.confusion_matrix(y_test,y_pred_high_precision)\n",
    "    print(f\"Threshold at {round(i,2)} \\n\")\n",
    "    print(conf)\n",
    "    print(\"\")\n",
    "    test_thresh = np.round(i,2)\n",
    "    print(f\"Threshold: {test_thresh}\")\n",
    "    print(f\"Accuracy: {acc_log[test_thresh]}\")\n",
    "    print(f\"Precision: {prec_log[test_thresh]}\")\n",
    "    print(f\"Recall: {rec_log[test_thresh]}\")\n",
    "    print(f\"Cost-Benefit: {cost_ben_log[test_thresh]}\" )\n",
    "    print(\"********************************\")\n",
    "    \n",
    "#         cost_ben_log[i] = ((250 * (1-rc_log)) + (100*(1-pc_log)) - (150*pc_log))*100\n",
    "\n"
   ]
  },
  {
   "cell_type": "markdown",
   "metadata": {},
   "source": [
    "##### Random Forest"
   ]
  },
  {
   "cell_type": "code",
   "execution_count": null,
   "metadata": {},
   "outputs": [],
   "source": [
    "from sklearn import ensemble\n",
    "from imblearn import over_sampling"
   ]
  },
  {
   "cell_type": "code",
   "execution_count": null,
   "metadata": {},
   "outputs": [],
   "source": [
    "kfold = model_selection.StratifiedKFold(n_splits = 5)"
   ]
  },
  {
   "cell_type": "code",
   "execution_count": null,
   "metadata": {},
   "outputs": [],
   "source": [
    "#Now trying with oversampling\n",
    "\n",
    "x_train,x_test,y_train,y_test = \\\n",
    "model_selection.train_test_split(master_x_cats,master_y_cats)\n",
    "sm = over_sampling.SMOTE(ratio=1)\n",
    "x_train_smote,y_train_smote = sm.fit_sample(x_train,y_train)"
   ]
  },
  {
   "cell_type": "code",
   "execution_count": null,
   "metadata": {},
   "outputs": [],
   "source": [
    "rf_best = ensemble.RandomForestClassifier\\\n",
    "(class_weight=None,max_features='auto')\n",
    "\n",
    "x_train,x_test,y_train,y_test = \\\n",
    "model_selection.train_test_split(master_x_cats,master_y_cats)\n",
    "sm = over_sampling.SMOTE(ratio=1)\n",
    "x_train_smote,y_train_smote = sm.fit_sample(x_train,y_train)\n",
    "\n",
    "rf_best.fit(x_train_smote,y_train_smote)"
   ]
  },
  {
   "cell_type": "code",
   "execution_count": null,
   "metadata": {
    "scrolled": true
   },
   "outputs": [],
   "source": [
    "#Cost Benefit RF\n",
    "#Cost of Intervention is $100\n",
    "#Cost of 2nd Inspection is $200\n",
    "# -------------------------------------\n",
    "#False Negatives cost $500 (missing a non-A, guessing A) - cost of inspection2/appeal\n",
    "#True Positives save us $400 (guessing non-A, being right) - action saves us cost of inspection2 - cost intervention\n",
    "#False Positives cost us $100 (guessing non-A, being A) - wasted intervention\n",
    "#     cost_ben_log[i] = (500 * (1-rc_log)) + (100*(1-pc_log)) - (400*pc_log)\n",
    "# -------------------------------------\n",
    "\n",
    "y_proba = rf_best.predict_proba(x_test)\n",
    "prec = {}\n",
    "rec = {}\n",
    "acc = {}\n",
    "cost_ben = {}\n",
    "\n",
    "for i in np.arange(0,1,.01):\n",
    "    y_pred_high_precision = y_proba[:,1] >= i \n",
    "    y_pred_high_precision\n",
    "    conf = metrics.confusion_matrix(y_test,y_pred_high_precision)\n",
    "    \n",
    "    ac = round(metrics.accuracy_score(y_test,y_pred_high_precision),4)\n",
    "    pc = (conf[1, 1] / (conf[1, 1] + conf[0, 1]))\n",
    "    rc = (conf[1, 1] / (conf[1, 1] + conf[1, 0]))\n",
    "    \n",
    "    acc[i]= ac\n",
    "    prec[i]= pc\n",
    "    rec[i] = rc\n",
    "#     cost_ben[i] = (500 * (1-rc)) + (100*(1-pc)) - (400*pc)\n",
    "#     cost_ben[i]  = ((250 * (1-rc)) + (100*(1-pc)) - (150*pc))\n",
    "    cost_ben[i] = ((250 * conf[1, 0]) + (100*conf[0, 1]) - ((150*conf[1, 1])))/len(y_test)\n",
    "    \n",
    "\n",
    "print(conf)\n",
    "plt.plot(acc.keys(),acc.values(),label=\"Accuracy\")\n",
    "plt.plot(rec.keys(),rec.values(),label=\"Recall\")\n",
    "plt.plot(prec.keys(),prec.values(),label=\"Precision\")\n",
    "# plt.plot(cost_ben.keys(),cost_ben.values(),label=\"Cost Benefit\")\n",
    "plt.legend();\n",
    "plt.xlabel(\"Threshold\")\n",
    "plt.title('Precision / Recall');\n",
    "\n",
    "# metrics.\n",
    "# TN  # FP\n",
    "# FN  # TP"
   ]
  },
  {
   "cell_type": "code",
   "execution_count": null,
   "metadata": {},
   "outputs": [],
   "source": [
    "print(min(cost_ben.values()))\n",
    "\n",
    "\n",
    "plt.plot(cost_ben.keys(),cost_ben.values(),label=\"Cost\")\n",
    "plt.legend();\n",
    "plt.xlabel(\"Threshold\")\n",
    "plt.ylabel(\"Cost ($)\")\n",
    "plt.grid()\n",
    "plt.savefig(\"Cost_perint_RF\")\n",
    "plt.title('Cost - PER INTERVENTION - Random Forest');"
   ]
  },
  {
   "cell_type": "code",
   "execution_count": null,
   "metadata": {},
   "outputs": [],
   "source": [
    "for i in np.arange(0.01,0.5,0.05):\n",
    "    y_pred_high_precision = y_proba[:,1] >= i \n",
    "    y_pred_high_precision\n",
    "    conf = metrics.confusion_matrix(y_test,y_pred_high_precision)\n",
    "    print(conf)\n",
    "    print(\"\")\n",
    "    test_thresh = round(i,2)\n",
    "    print(f\"Threshold: {test_thresh}\")\n",
    "    print(f\"Accuracy: {acc[test_thresh]}\")\n",
    "    print(f\"Precision: {prec[test_thresh]}\")\n",
    "    print(f\"Recall: {rec[test_thresh]}\")\n",
    "    print(f\"Cost-Benefit: {cost_ben[test_thresh]}\" )\n",
    "    print(\"********************************\")\n",
    "\n"
   ]
  },
  {
   "cell_type": "code",
   "execution_count": 23,
   "metadata": {},
   "outputs": [
    {
     "name": "stdout",
     "output_type": "stream",
     "text": [
      "Threshold: 0.01\n",
      "Accuracy: 0.6799\n",
      "Precision: 0.26289371313841137\n",
      "Recall: 0.8241542092840283\n",
      "Cost-Benefit: 19.491568339494606\n",
      "********************************\n",
      "Threshold: 0.06\n",
      "Accuracy: 0.6808\n",
      "Precision: 0.2623199393479909\n",
      "Recall: 0.8166797797010228\n",
      "Cost-Benefit: 19.69413075403859\n",
      "********************************\n",
      "Threshold: 0.11\n",
      "Accuracy: 0.7494\n",
      "Precision: 0.2908047974969581\n",
      "Recall: 0.6581431943351692\n",
      "Cost-Benefit: 18.954777940953058\n",
      "********************************\n",
      "Threshold: 0.16\n",
      "Accuracy: 0.7505\n",
      "Precision: 0.2910460837567899\n",
      "Recall: 0.6534225019669552\n",
      "Cost-Benefit: 19.02567478604345\n",
      "********************************\n"
     ]
    }
   ],
   "source": [
    "for test_thresh in np.arange(0.01,0.2,0.05):\n",
    "    test_thresh = round(test_thresh,2)\n",
    "    print(f\"Threshold: {test_thresh}\")\n",
    "    print(f\"Accuracy: {acc[test_thresh]}\")\n",
    "    print(f\"Precision: {prec[test_thresh]}\")\n",
    "    print(f\"Recall: {rec[test_thresh]}\")\n",
    "    print(f\"Cost-Benefit: {cost_ben[test_thresh]}\" )\n",
    "    print(\"********************************\")"
   ]
  },
  {
   "cell_type": "code",
   "execution_count": 24,
   "metadata": {},
   "outputs": [
    {
     "data": {
      "image/png": "[encoded data removed]",
      "text/plain": [
       "<Figure size 432x288 with 1 Axes>"
      ]
     },
     "metadata": {},
     "output_type": "display_data"
    }
   ],
   "source": [
    "plt.plot(acc.keys(),acc.values(),label=\"Accuracy\")\n",
    "plt.plot(rec.keys(),rec.values(),label=\"Recall\")\n",
    "plt.plot(prec.keys(),prec.values(),label=\"Precision\")\n",
    "plt.legend();\n",
    "plt.xlabel(\"i\")\n",
    "plt.title('Precision Recall Curve');"
   ]
  },
  {
   "cell_type": "code",
   "execution_count": 25,
   "metadata": {},
   "outputs": [
    {
     "ename": "NameError",
     "evalue": "name 'y_score' is not defined",
     "output_type": "error",
     "traceback": [
      "\u001b[0;31m---------------------------------------------------------------------------\u001b[0m",
      "\u001b[0;31mNameError\u001b[0m                                 Traceback (most recent call last)",
      "\u001b[0;32m<ipython-input-25-8169867c11eb>\u001b[0m in \u001b[0;36m<module>\u001b[0;34m()\u001b[0m\n\u001b[1;32m      1\u001b[0m \u001b[0;32mfrom\u001b[0m \u001b[0msklearn\u001b[0m\u001b[0;34m.\u001b[0m\u001b[0mmetrics\u001b[0m \u001b[0;32mimport\u001b[0m \u001b[0mprecision_recall_curve\u001b[0m\u001b[0;34m\u001b[0m\u001b[0m\n\u001b[1;32m      2\u001b[0m \u001b[0;34m\u001b[0m\u001b[0m\n\u001b[0;32m----> 3\u001b[0;31m \u001b[0mp\u001b[0m\u001b[0;34m,\u001b[0m\u001b[0mr\u001b[0m\u001b[0;34m,\u001b[0m\u001b[0mt\u001b[0m\u001b[0;34m=\u001b[0m\u001b[0mprecision_recall_curve\u001b[0m\u001b[0;34m(\u001b[0m\u001b[0my_test\u001b[0m\u001b[0;34m,\u001b[0m\u001b[0my_score\u001b[0m\u001b[0;34m)\u001b[0m\u001b[0;34m\u001b[0m\u001b[0m\n\u001b[0m\u001b[1;32m      4\u001b[0m \u001b[0;34m\u001b[0m\u001b[0m\n\u001b[1;32m      5\u001b[0m \u001b[0;31m# adding last threshold of '1' to threshold list\u001b[0m\u001b[0;34m\u001b[0m\u001b[0;34m\u001b[0m\u001b[0m\n",
      "\u001b[0;31mNameError\u001b[0m: name 'y_score' is not defined"
     ]
    }
   ],
   "source": [
    "from sklearn.metrics import precision_recall_curve\n",
    "\n",
    "p,r,t=precision_recall_curve(y_test,y_score)\n",
    "\n",
    "# adding last threshold of '1' to threshold list\n",
    "t=np.vstack([t.reshape([-1,1]),1])\n",
    "\n",
    "# plt.plot(p,t)\n",
    "# plt.plot(r,t);\n",
    "plt.plot(t,p,label=\"Precision\")\n",
    "plt.plot(t,r,label=\"Recall\")\n",
    "plt.legend();\n",
    "plt.title('Precision Recall Curve');\n",
    "\n"
   ]
  },
  {
   "cell_type": "code",
   "execution_count": null,
   "metadata": {},
   "outputs": [],
   "source": []
  }
 ],
 "metadata": {
  "kernelspec": {
   "display_name": "Python 3",
   "language": "python",
   "name": "python3"
  },
  "language_info": {
   "codemirror_mode": {
    "name": "ipython",
    "version": 3
   },
   "file_extension": ".py",
   "mimetype": "text/x-python",
   "name": "python",
   "nbconvert_exporter": "python",
   "pygments_lexer": "ipython3",
   "version": "3.6.4"
  }
 },
 "nbformat": 4,
 "nbformat_minor": 2
}
